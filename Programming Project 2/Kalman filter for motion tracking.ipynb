{
  "cells": [
    {
      "metadata": {
        "slideshow": {
          "slide_type": "slide"
        }
      },
      "cell_type": "markdown",
      "source": "# <center>Kalman Filter for Motion Tracking<center>\n<br>\n<center>410485002 資工四 胡孝德</center>"
    },
    {
      "metadata": {
        "slideshow": {
          "slide_type": "slide"
        }
      },
      "cell_type": "markdown",
      "source": "# <center>Kalman Filter?</center>\n一種高效率的**遞歸濾波器**，它能夠從一系列的不完全及包含雜訊的測量中，**估計**動態系統的狀態。\n\n![1](img/2-1.png)"
    },
    {
      "metadata": {
        "slideshow": {
          "slide_type": "slide"
        }
      },
      "cell_type": "markdown",
      "source": "## <center>Formula 1</center>\n<img src=\"img/3-1-1.png\">\n<br>\n<img src=\"img/3-1-2.png\">"
    },
    {
      "metadata": {
        "slideshow": {
          "slide_type": "subslide"
        },
        "trusted": true
      },
      "cell_type": "markdown",
      "source": "<img src=\"img/3-2-1.png\">\n<br>\n<img src=\"img/3-2-2.png\">"
    },
    {
      "metadata": {
        "slideshow": {
          "slide_type": "slide"
        }
      },
      "cell_type": "markdown",
      "source": "## <center>Formula 2</center>\n隨機向量 X 的變異數（Variance of random vector X）\n<img src=\"img/4-1-1.png\">"
    },
    {
      "metadata": {
        "slideshow": {
          "slide_type": "subslide"
        }
      },
      "cell_type": "markdown",
      "source": "<img src=\"img/4-2.png\">"
    },
    {
      "metadata": {
        "slideshow": {
          "slide_type": "subslide"
        }
      },
      "cell_type": "markdown",
      "source": "![1](img/4-3.png)"
    },
    {
      "metadata": {
        "slideshow": {
          "slide_type": "slide"
        }
      },
      "cell_type": "markdown",
      "source": "## <center> Formula 3, 4, 5 </center>\n![1](img/5-1-1.png)\n![2](img/5-1-2.png)\n![3](img/5-1-3.png)\n"
    },
    {
      "metadata": {
        "slideshow": {
          "slide_type": "slide"
        }
      },
      "cell_type": "markdown",
      "source": "## <center>Demo: Mouse Tracking</center>"
    },
    {
      "metadata": {
        "slideshow": {
          "slide_type": "slide"
        },
        "trusted": true
      },
      "cell_type": "code",
      "source": "import cv2 as cv\nimport numpy as np\nfrom numpy import uint8, float32, array, zeros, eye, dot\nfrom numpy.linalg import inv\n\n\nclass KalmanFilter:\n    def __init__(self, F=None, B=None, H=None, Q=None, R=None, P=None, x0=None):\n\n        if F is None or H is None:\n            raise ValueError(\"Set proper system dynamics.\")\n\n        self.n = F.shape[1]\n        self.m = H.shape[0]\n\n        self.F = F\n        self.H = H\n        self.B = 0 if B is None else B\n        self.Q = eye(self.n) if Q is None else Q\n        self.R = eye(self.m) if R is None else R\n        self.P = eye(self.n) if P is None else P\n        self.x = zeros((self.n, 1)) if x0 is None else x0\n\n    def predict(self, u=0):\n        # x(k)=A*x(k-1)+B*u(k)\n        self.x = dot(self.F, self.x) + dot(self.B, u)\n\n        # P'(k)=A*P(k-1)*At + Q\n        self.P = dot(dot(self.F, self.P), self.F.T) + self.Q\n        return dot(self.H, self.x)\n\n    def correct(self, Z):\n        # K(k)=P'(k)*Ht*inv(H*P'(k)*Ht+R)\n        tmp = dot(dot(self.H, self.P), self.H.T) + self.R\n        K = dot(dot(self.P, self.H.T), inv(tmp))\n\n        # x(k)=x'(k)+K(k)*(z(k)-H*x'(k))\n        self.x = self.x + dot(K, Z - dot(self.H, self.x))\n\n        # P(k)=(I-K(k)*H)*P'(k)\n        self.P = dot(eye(self.n) - dot(K, self.H), self.P)\n\n\ndef on_mouse(event, x, y, flags, param):\n    global frame, current_measure\n    last_measure = current_measure\n\n    # Kalman Filter prediction and correction\n    current_predict = kalman.predict()\n    current_predict2 = kalman2.predict()\n    current_measure = array([[x], [y]], dtype=float32)\n    kalman.correct(current_measure)\n    kalman2.correct(current_measure)\n\n    # Draw result on the frame.\n    cv.line(frame, (last_measure[0], last_measure[1]),\n            (current_measure[0], current_measure[1]),\n            GREEN, 3)\n    cv.circle(frame, (current_predict[0], current_predict[1]),\n              10, RED, 2)\n    cv.rectangle(frame, (current_predict2[0] - 5, current_predict2[1] - 5),\n                 (current_predict2[0] + 5, current_predict2[1] + 5),\n                 BLUE, 2)\n\n    # Print exact location\n    print(\"Mouse location: \", end=\"\")\n    print((float(current_measure[0]), float(current_measure[1])))\n    print(\"Kalman Filter predicted the location by OpenCV:\")\n    print((float(current_predict[0]), float(current_predict[1])))\n    print(\"Kalman Filter predicted the location by hand:\")\n    print((float(current_predict2[0]), float(current_predict2[1])))\n    print(\"========================================\")\n\n\ndef create_frame():\n    frame = zeros((720, 1280, 3), uint8)\n    frame.fill(255)\n    cv.putText(frame, \"Mouse Trajectory:\", (950, 50),\n               cv.FONT_HERSHEY_SIMPLEX, 1, (0, 0, 0), 2)\n    cv.line(frame, (1240, 45), (1260, 45), GREEN, 5)\n    cv.putText(frame, \"OpenCV Prediction: \", (930, 100),\n               cv.FONT_HERSHEY_SIMPLEX, 1, (0, 0, 0), 2)\n    cv.circle(frame, (1250, 95), 10, RED, 2)\n    cv.putText(frame, \"My Prediction: \", (1008, 150),\n               cv.FONT_HERSHEY_SIMPLEX, 1, (0, 0, 0), 2)\n    cv.rectangle(frame, (1250 - 10, 145 - 10), (1250 + 10, 145 + 10), BLUE, 2)\n    return frame\n\n\nif __name__ == \"__main__\":\n    winname = \"Kalman Filter Example: Mouse Tracking\"\n    cv.namedWindow(winname)\n    cv.setMouseCallback(winname, on_mouse)\n\n    GREEN = (0, 255, 0)\n    RED = (0, 0, 255)\n    BLUE = (255, 0, 0)\n\n    frame = create_frame()\n    current_measure = zeros((2, 1), float32)\n\n    # Parameters for Kalman Filter\n    F = array([[1, 0, 1, 0],\n               [0, 1, 0, 1],\n               [0, 0, 1, 0],\n               [0, 0, 0, 1]], float32)\n    H = array([[1, 0, 0, 0],\n               [0, 1, 0, 0]], float32)\n    Q = array([[1, 0, 0, 0],\n               [0, 1, 0, 0],\n               [0, 0, 1, 0],\n               [0, 0, 0, 1]], float32) * 0.03\n\n    # OpenCV version\n    kalman = cv.KalmanFilter(4, 2)\n    kalman.measurementMatrix = H\n    kalman.transitionMatrix = F\n    kalman.processNoiseCov = Q\n\n    # My version\n    kalman2 = KalmanFilter(F=F, H=H, Q=Q)\n\n    while True:\n        cv.imshow(winname, frame)\n        key = cv.waitKey(30)\n\n        if key == ord(\"q\") or key == ord(\"Q\"):\n            # Quit\n            break\n        elif key == ord(\"c\") or key == ord(\"C\"):\n            # Clear frame\n            frame = create_frame()\n\n    cv.destroyAllWindows()",
      "execution_count": null,
      "outputs": []
    }
  ],
  "metadata": {
    "kernelspec": {
      "name": "python36",
      "display_name": "Python 3.6",
      "language": "python"
    },
    "celltoolbar": "Slideshow",
    "language_info": {
      "mimetype": "text/x-python",
      "nbconvert_exporter": "python",
      "name": "python",
      "pygments_lexer": "ipython3",
      "version": "3.6.6",
      "file_extension": ".py",
      "codemirror_mode": {
        "version": 3,
        "name": "ipython"
      }
    }
  },
  "nbformat": 4,
  "nbformat_minor": 2
}